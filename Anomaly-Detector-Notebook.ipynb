{
 "cells": [
  {
   "cell_type": "code",
   "execution_count": null,
   "id": "391e8653",
   "metadata": {},
   "outputs": [],
   "source": [
    "import pandas as pd\n",
    "import os\n",
    "import pandas as pd\n",
    "import glob\n",
    "import os"
   ]
  },
  {
   "cell_type": "markdown",
   "id": "6af0c1a3",
   "metadata": {},
   "source": [
    "# Section 2: Introduction to Fraud Detection\n",
    "### Lecture 3: What is Anomaly Detection\n",
    "- An anomaly can be seen as data that deviates substantially from the norm \n",
    "- Anomaly detection is the process of identifying rare observations which differ substantially from the majority of the data from where they are drawn\n",
    "- Applications include intrusion detection, fraud detection, fault detection, healthcare monitoring etc"
   ]
  },
  {
   "cell_type": "markdown",
   "id": "d47a3460",
   "metadata": {},
   "source": [
    "- Fraud detection is the process of detecting anomalous financial records from within a broader set of normal transactions.\n",
    "- The data is typically tabular in nature i.e. data sets with rows and columns\n",
    "- It is important to have access to histrorical instances of confirmed fraudulent behaviour i.e. labels or our target variable, which are often issued by a bank or third party\n",
    "- Because fraud is by definition less frequent than normal behaviour within a financial services ecosystem, there will be far less confirmed historical instances of fraudulent behaviour compared with the known good/normal behaviour, leading to an imbalance between the fraudulent and non-fraudulent samples\n",
    "\n",
    "- Feature engineering is crucial, as it involves converting domain knowledge from fraud analysts and investigators into data that can be used to detect suspicious behaviours\n",
    "- The features/data is typically aggregated at the customer-level, or at the transaction-level, depending on the use-case. Some approaches even combine the two\n",
    "- Network data i.e. how users within a system are connected to one another (if at all), is normally a strong indicator of fraudulent behaviour\n",
    "\n",
    "- Data sets for fraud detection are notoriously difficulty to access, due to various issues related to data privacy. There are some popular data sets available online, one of which is the ULB Machine Learning Group credit card fraud data set on Kaggle that we'll be using throughout this course\n"
   ]
  },
  {
   "cell_type": "code",
   "execution_count": 20,
   "id": "3277ba22",
   "metadata": {},
   "outputs": [],
   "source": [
    "# Section 2: Introduction to Fraud Detection\n",
    "### Lecture 5: Exploring the Credit Card Fraud Data Set"
   ]
  },
  {
   "cell_type": "markdown",
   "id": "f3cbad44",
   "metadata": {},
   "source": [
    "- https://www.kaggle.com/datasets/mlg-ulb/creditcardfraud"
   ]
  },
  {
   "cell_type": "code",
   "execution_count": 21,
   "id": "83a08862",
   "metadata": {},
   "outputs": [],
   "source": [
    "#You van download directly \n",
    "#df = pd.read_csv('credit_card.csv')"
   ]
  },
  {
   "cell_type": "code",
   "execution_count": 14,
   "id": "df21159f",
   "metadata": {},
   "outputs": [],
   "source": [
    "# or using our splited datasets"
   ]
  },
  {
   "cell_type": "code",
   "execution_count": 8,
   "id": "7cf2d3a3",
   "metadata": {},
   "outputs": [],
   "source": [
    "#to get the current working directory\n",
    "directory = os.getcwd()\n",
    "directory=directory+'\\\\notes\\data'"
   ]
  },
  {
   "cell_type": "code",
   "execution_count": 22,
   "id": "4048370d",
   "metadata": {},
   "outputs": [],
   "source": [
    "#directory"
   ]
  },
  {
   "cell_type": "code",
   "execution_count": 10,
   "id": "342bd7ab",
   "metadata": {},
   "outputs": [],
   "source": [
    "all_files = glob.glob(os.path.join(directory, \"*.csv\"))"
   ]
  },
  {
   "cell_type": "code",
   "execution_count": 16,
   "id": "6bea92d4",
   "metadata": {},
   "outputs": [],
   "source": [
    "#all_files"
   ]
  },
  {
   "cell_type": "code",
   "execution_count": 17,
   "id": "cd78d663",
   "metadata": {},
   "outputs": [],
   "source": [
    "df = pd.concat((pd.read_csv(f) for f in all_files), ignore_index=True)"
   ]
  },
  {
   "cell_type": "code",
   "execution_count": 23,
   "id": "b4cf8290",
   "metadata": {},
   "outputs": [
    {
     "data": {
      "text/plain": [
       "284807"
      ]
     },
     "execution_count": 23,
     "metadata": {},
     "output_type": "execute_result"
    }
   ],
   "source": [
    "df.shape[0]"
   ]
  },
  {
   "cell_type": "code",
   "execution_count": null,
   "id": "eeddec59",
   "metadata": {},
   "outputs": [],
   "source": []
  }
 ],
 "metadata": {
  "kernelspec": {
   "display_name": "Python (Fraud Detector)",
   "language": "python",
   "name": "detector"
  },
  "language_info": {
   "codemirror_mode": {
    "name": "ipython",
    "version": 3
   },
   "file_extension": ".py",
   "mimetype": "text/x-python",
   "name": "python",
   "nbconvert_exporter": "python",
   "pygments_lexer": "ipython3",
   "version": "3.8.0"
  }
 },
 "nbformat": 4,
 "nbformat_minor": 5
}
