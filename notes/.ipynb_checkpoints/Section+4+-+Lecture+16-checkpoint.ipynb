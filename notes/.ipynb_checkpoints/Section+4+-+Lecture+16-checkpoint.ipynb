{
 "cells": [
  {
   "cell_type": "markdown",
   "metadata": {},
   "source": [
    "# Section 4: Performance Metrics for Fraud Detection\n",
    "### Lecture 16: Implementing Performance Metrics in scikit-learn"
   ]
  },
  {
   "cell_type": "code",
   "execution_count": 1,
   "metadata": {},
   "outputs": [
    {
     "data": {
      "text/plain": [
       "array([[28429,     3],\n",
       "       [    6,    43]], dtype=int64)"
      ]
     },
     "execution_count": 1,
     "metadata": {},
     "output_type": "execute_result"
    }
   ],
   "source": [
    "import pandas as pd\n",
    "import matplotlib.pyplot as plt\n",
    "import seaborn as sns\n",
    "from sklearn.metrics import confusion_matrix\n",
    "from sklearn.model_selection import train_test_split\n",
    "import xgboost as xgb\n",
    "\n",
    "df = pd.read_csv('credit_card.csv')\n",
    "y = df['Class']\n",
    "X = df.drop(['Class','Amount','Time'], axis=1)\n",
    "X_train, X_test, y_train, y_test = train_test_split(X, y, test_size=0.1, random_state=42, stratify=y)\n",
    "model_xgb = xgb.XGBClassifier(max_depth=5, scale_pos_weight=100)\n",
    "model_xgb.fit(X_train, y_train)\n",
    "y_pred = model_xgb.predict(X_test)\n",
    "confusion_matrix(y_test, y_pred)"
   ]
  },
  {
   "cell_type": "code",
   "execution_count": 2,
   "metadata": {},
   "outputs": [],
   "source": [
    "from sklearn.metrics import (classification_report, precision_score, recall_score,\n",
    "                             average_precision_score, roc_auc_score,\n",
    "                             f1_score, matthews_corrcoef)                        "
   ]
  },
  {
   "cell_type": "code",
   "execution_count": 3,
   "metadata": {},
   "outputs": [
    {
     "data": {
      "text/plain": [
       "0.9347826086956522"
      ]
     },
     "execution_count": 3,
     "metadata": {},
     "output_type": "execute_result"
    }
   ],
   "source": [
    "# Precision is the proportion of correctly predicted fraudulent instances among all instances predicted as fraud\n",
    "# TP / TP + FP\n",
    "# 43 / 3 + 43 = 0.934\n",
    "\n",
    "precision_score(y_test, y_pred)"
   ]
  },
  {
   "cell_type": "code",
   "execution_count": 4,
   "metadata": {},
   "outputs": [
    {
     "data": {
      "text/plain": [
       "0.8775510204081632"
      ]
     },
     "execution_count": 4,
     "metadata": {},
     "output_type": "execute_result"
    }
   ],
   "source": [
    "# Recall is the proportion of the fraudulent instances that are successfully predicted\n",
    "# TP / TP + FN\n",
    "# 43 / 6 + 43 = 0.877\n",
    "\n",
    "recall_score(y_test, y_pred)"
   ]
  },
  {
   "cell_type": "code",
   "execution_count": 5,
   "metadata": {},
   "outputs": [
    {
     "data": {
      "text/plain": [
       "0.9052631578947369"
      ]
     },
     "execution_count": 5,
     "metadata": {},
     "output_type": "execute_result"
    }
   ],
   "source": [
    "# F1-score is the harmonic balance of precision and recall (can be weighted more towards P or R if need be)\n",
    "# F = 2 * (Precision * Recall)/(Precision + Recall)\n",
    "# F = 2 * (0.934 * 0.877)/(0.934 + 0.877)\n",
    "# F = 0.905\n",
    "\n",
    "f1_score(y_test, y_pred)"
   ]
  },
  {
   "cell_type": "code",
   "execution_count": 6,
   "metadata": {},
   "outputs": [
    {
     "data": {
      "text/plain": [
       "0.9387227527476945"
      ]
     },
     "execution_count": 6,
     "metadata": {},
     "output_type": "execute_result"
    }
   ],
   "source": [
    "# AUROC/AUC = Area under the Receiver Operating Characteristic curve\n",
    "# plot the TPR (Recall) and FPR at various classification thresholds\n",
    "# FPR = FP / FP + TN\n",
    "# Good measure of overall performance\n",
    "\n",
    "roc_auc_score(y_test, y_pred)"
   ]
  },
  {
   "cell_type": "code",
   "execution_count": 7,
   "metadata": {},
   "outputs": [
    {
     "data": {
      "text/plain": [
       "0.8205300988809707"
      ]
     },
     "execution_count": 7,
     "metadata": {},
     "output_type": "execute_result"
    }
   ],
   "source": [
    "# AUPRC = Area under the Precision-Recall curve\n",
    "# Better alternative to AUC as doesn't include TN which influences the scores significantly in highly imbalanced data\n",
    "# calculates the area under the curve at various classification thresholds\n",
    "\n",
    "average_precision_score(y_test, y_pred)"
   ]
  },
  {
   "cell_type": "code",
   "execution_count": 8,
   "metadata": {},
   "outputs": [
    {
     "name": "stdout",
     "output_type": "stream",
     "text": [
      "              precision    recall  f1-score   support\n",
      "\n",
      "           0       1.00      1.00      1.00     28432\n",
      "           1       0.93      0.88      0.91        49\n",
      "\n",
      "    accuracy                           1.00     28481\n",
      "   macro avg       0.97      0.94      0.95     28481\n",
      "weighted avg       1.00      1.00      1.00     28481\n",
      "\n"
     ]
    }
   ],
   "source": [
    "# Classification report summarizes the classification metrics at the class and overall level\n",
    "\n",
    "print(classification_report(y_test, y_pred))"
   ]
  },
  {
   "cell_type": "code",
   "execution_count": null,
   "metadata": {},
   "outputs": [],
   "source": []
  }
 ],
 "metadata": {
  "kernelspec": {
   "display_name": "Python 3 (ipykernel)",
   "language": "python",
   "name": "python3"
  },
  "language_info": {
   "codemirror_mode": {
    "name": "ipython",
    "version": 3
   },
   "file_extension": ".py",
   "mimetype": "text/x-python",
   "name": "python",
   "nbconvert_exporter": "python",
   "pygments_lexer": "ipython3",
   "version": "3.8.0"
  },
  "vscode": {
   "interpreter": {
    "hash": "9514d2db24c52f5934bbf7018ab7320387c973a1463d66f6a2da077ca64de045"
   }
  }
 },
 "nbformat": 4,
 "nbformat_minor": 2
}
